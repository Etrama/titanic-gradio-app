{
 "cells": [
  {
   "cell_type": "code",
<<<<<<< HEAD
   "execution_count": 18,
=======
   "execution_count": 3,
>>>>>>> 16acbb58e2440c9befdacf2651ceec3f5737db57
   "metadata": {},
   "outputs": [],
   "source": [
    "import pandas as pd\n",
    "import numpy as np\n",
    "import matplotlib.pyplot as plt\n",
    "import seaborn as sns\n",
    "sns.set_style('whitegrid')\n",
    "import warnings\n",
    "warnings.filterwarnings('ignore')\n",
    "import config\n",
    "from sklearn.ensemble import RandomForestClassifier\n",
    "from sklearn.model_selection import train_test_split\n",
    "import joblib\n",
    "import gradio as gr"
   ]
  },
  {
   "cell_type": "code",
<<<<<<< HEAD
   "execution_count": 19,
=======
   "execution_count": 8,
>>>>>>> 16acbb58e2440c9befdacf2651ceec3f5737db57
   "metadata": {},
   "outputs": [],
   "source": [
    "# training a simple sklearn model\n",
    "df = pd.read_csv(config.processed_train_data)\n",
    "x = df[df.columns.difference([\"Survived\"])]\n",
    "y = df[\"Survived\"]\n",
    "X_train, X_test, y_train, y_test = train_test_split(x,y, random_state=69) # default test_size=0.25"
   ]
  },
  {
   "cell_type": "code",
<<<<<<< HEAD
   "execution_count": 20,
=======
   "execution_count": 9,
>>>>>>> 16acbb58e2440c9befdacf2651ceec3f5737db57
   "metadata": {},
   "outputs": [
    {
     "name": "stdout",
     "output_type": "stream",
     "text": [
      "Training complete.\n"
     ]
    },
    {
     "data": {
      "text/plain": [
       "['./models/RandomForestClassifier.pkl']"
      ]
     },
<<<<<<< HEAD
     "execution_count": 20,
=======
     "execution_count": 9,
>>>>>>> 16acbb58e2440c9befdacf2651ceec3f5737db57
     "metadata": {},
     "output_type": "execute_result"
    }
   ],
   "source": [
    "classifier = RandomForestClassifier()\n",
    "classifier.fit(X_train, y_train)\n",
    "print(\"Training complete.\")\n",
    "# persisting the model to a file\n",
    "joblib.dump(classifier, config.default_model)"
   ]
  },
  {
   "cell_type": "code",
<<<<<<< HEAD
   "execution_count": 21,
=======
   "execution_count": 10,
>>>>>>> 16acbb58e2440c9befdacf2651ceec3f5737db57
   "metadata": {},
   "outputs": [
    {
     "name": "stdout",
     "output_type": "stream",
     "text": [
<<<<<<< HEAD
      "Baseline accuracy: 0.8026905829596412\n"
=======
      "Baseline accuracy: 0.8161434977578476\n"
>>>>>>> 16acbb58e2440c9befdacf2651ceec3f5737db57
     ]
    }
   ],
   "source": [
    "#getting model performance on test data\n",
    "print(\"Baseline accuracy:\", classifier.score(X_test, y_test))"
   ]
  },
  {
   "cell_type": "code",
<<<<<<< HEAD
   "execution_count": 22,
=======
   "execution_count": 11,
>>>>>>> 16acbb58e2440c9befdacf2651ceec3f5737db57
   "metadata": {},
   "outputs": [
    {
     "name": "stdout",
     "output_type": "stream",
     "text": [
      "['Age', 'Embarked_Q', 'Embarked_S', 'Fare', 'Parch', 'Pclass', 'Sex_male', 'SibSp']\n"
     ]
    }
   ],
   "source": [
    "print(list(X_train.columns))"
   ]
  },
  {
   "cell_type": "code",
<<<<<<< HEAD
   "execution_count": 23,
=======
   "execution_count": 15,
>>>>>>> 16acbb58e2440c9befdacf2651ceec3f5737db57
   "metadata": {},
   "outputs": [],
   "source": [
    "def survive_titanic(Age, Embarked_Q, Embarked_S, Fare, Parch, Pclass, Sex_male, SibSp):\n",
    "    #all columns except the target\n",
    "    x = np.array([Age, Embarked_Q, Embarked_S, Fare, Parch, Pclass, Sex_male, SibSp])\n",
    "    prediction = classifier.predict(x.reshape(1, -1))\n",
    "    if prediction[0] == 0:\n",
    "        return \"I'm sorry, you did not survive the Titanic. See you on the other side ಥ╭╮ಥ\"\n",
    "    else:\n",
    "        return \"Congratulations! You survived the Titanic's voyage ☜(⌒▽⌒)☞\""
   ]
  },
  {
   "cell_type": "code",
<<<<<<< HEAD
   "execution_count": 24,
   "metadata": {},
   "outputs": [],
=======
   "execution_count": 2,
   "metadata": {},
   "outputs": [
    {
     "ename": "NameError",
     "evalue": "name 'gr' is not defined",
     "output_type": "error",
     "traceback": [
      "\u001b[1;31m---------------------------------------------------------------------------\u001b[0m",
      "\u001b[1;31mNameError\u001b[0m                                 Traceback (most recent call last)",
      "Cell \u001b[1;32mIn[2], line 2\u001b[0m\n\u001b[0;32m      1\u001b[0m \u001b[39m# Basic Gradio Interface\u001b[39;00m\n\u001b[1;32m----> 2\u001b[0m outputs \u001b[39m=\u001b[39m gr\u001b[39m.\u001b[39moutputs\u001b[39m.\u001b[39mTextbox()\n\u001b[0;32m      3\u001b[0m app \u001b[39m=\u001b[39m gr\u001b[39m.\u001b[39mInterface(fn\u001b[39m=\u001b[39msurvive_titanic, inputs\u001b[39m=\u001b[39m[\u001b[39m'\u001b[39m\u001b[39mnumber\u001b[39m\u001b[39m'\u001b[39m,\u001b[39m'\u001b[39m\u001b[39mnumber\u001b[39m\u001b[39m'\u001b[39m,\u001b[39m'\u001b[39m\u001b[39mnumber\u001b[39m\u001b[39m'\u001b[39m,\u001b[39m'\u001b[39m\u001b[39mnumber\u001b[39m\u001b[39m'\u001b[39m,\u001b[39m'\u001b[39m\u001b[39mnumber\u001b[39m\u001b[39m'\u001b[39m,\u001b[39m'\u001b[39m\u001b[39mnumber\u001b[39m\u001b[39m'\u001b[39m,\u001b[39m'\u001b[39m\u001b[39mnumber\u001b[39m\u001b[39m'\u001b[39m,\u001b[39m'\u001b[39m\u001b[39mnumber\u001b[39m\u001b[39m'\u001b[39m], outputs\u001b[39m=\u001b[39moutputs,description\u001b[39m=\u001b[39m\u001b[39m\"\u001b[39m\u001b[39mTitanic Survival Model\u001b[39m\u001b[39m\"\u001b[39m)\n",
      "\u001b[1;31mNameError\u001b[0m: name 'gr' is not defined"
     ]
    }
   ],
>>>>>>> 16acbb58e2440c9befdacf2651ceec3f5737db57
   "source": [
    "# # Basic Gradio Interface\n",
    "# outputs = gr.outputs.Textbox()\n",
    "# app = gr.Interface(fn=survive_titanic, inputs=['number','number','number','number','number','number','number','number'], outputs=outputs,description=\"Titanic Survival Model\")"
   ]
  },
  {
   "cell_type": "code",
<<<<<<< HEAD
   "execution_count": 25,
=======
   "execution_count": 16,
>>>>>>> 16acbb58e2440c9befdacf2651ceec3f5737db57
   "metadata": {},
   "outputs": [],
   "source": [
    "# Slightly more advanced Gradio Interface\n",
    "outputs = gr.outputs.Textbox()\n",
    "app = gr.Interface(fn=survive_titanic, \n",
    "                   inputs=\n",
    "                   [\n",
    "                        gr.Slider(0, 80, value=22, label=\"Age\", info=\"Choose your age when you were on the Titanic.\"),\n",
    "                        gr.Radio([0, 1], label=\"Embarked at Queenstown\", info=\"Enter 0 for No, 1 for Yes. You can set this and the next one as 0 if you embarked at Cherbourg.\"),\n",
    "                        gr.Radio([0, 1], label=\"Embarked at Southampton\", info=\"Enter 0 for No, 1 for Yes. You can set this and the previous one as 0 if you embarked at Cherbourg.\"),\n",
    "                        gr.Slider(0, 515, value=100, label=\"Fare\", info=\"Choose how much you paid for your ticket.\"),\n",
    "                        gr.Radio([0, 1, 2, 3, 4, 5, 6], label=\"Parch\", info=\"How many parents/children accompanied you on the Titanic?\"),\n",
    "                        gr.Radio([1, 2, 3], label=\"Pclass\", info=\"What class ticket did you have?\"),\n",
    "                        gr.Radio([0, 1], label=\"Gender\", info=\"Enter 0 for women, 1 for men.\"),\n",
    "                        gr.Radio([0, 1, 2, 3, 4, 5, 6, 7, 8], label=\"Parch\", info=\"Count of Siblings and/or Spouses accompanying you.\"),\n",
    "                    ], \n",
    "                   outputs=outputs,\n",
    "                   description=\"Titanic Survival Model. Find out whether you'd survive the Titanic's maiden voyage!\")"
   ]
  },
  {
   "cell_type": "code",
<<<<<<< HEAD
   "execution_count": 26,
=======
   "execution_count": 17,
>>>>>>> 16acbb58e2440c9befdacf2651ceec3f5737db57
   "metadata": {},
   "outputs": [
    {
     "name": "stdout",
     "output_type": "stream",
     "text": [
<<<<<<< HEAD
      "Running on local URL:  http://127.0.0.1:7862\n",
      "Running on public URL: https://d75eb3f17b418aff96.gradio.live\n",
      "\n",
      "This share link expires in 72 hours. For free permanent hosting and GPU upgrades, run `gradio deploy` from Terminal to deploy to Spaces (https://huggingface.co/spaces)\n"
=======
      "Running on local URL:  http://127.0.0.1:7861\n",
      "\n",
      "To create a public link, set `share=True` in `launch()`.\n"
>>>>>>> 16acbb58e2440c9befdacf2651ceec3f5737db57
     ]
    },
    {
     "data": {
      "text/html": [
<<<<<<< HEAD
       "<div><iframe src=\"https://d75eb3f17b418aff96.gradio.live\" width=\"100%\" height=\"500\" allow=\"autoplay; camera; microphone; clipboard-read; clipboard-write;\" frameborder=\"0\" allowfullscreen></iframe></div>"
=======
       "<div><iframe src=\"http://127.0.0.1:7861/\" width=\"100%\" height=\"500\" allow=\"autoplay; camera; microphone; clipboard-read; clipboard-write;\" frameborder=\"0\" allowfullscreen></iframe></div>"
>>>>>>> 16acbb58e2440c9befdacf2651ceec3f5737db57
      ],
      "text/plain": [
       "<IPython.core.display.HTML object>"
      ]
     },
     "metadata": {},
     "output_type": "display_data"
    },
    {
     "data": {
      "text/plain": []
     },
<<<<<<< HEAD
     "execution_count": 26,
=======
     "execution_count": 17,
>>>>>>> 16acbb58e2440c9befdacf2651ceec3f5737db57
     "metadata": {},
     "output_type": "execute_result"
    }
   ],
   "source": [
    "# pass share=True to create a publicly shareable link\n",
    "app.launch(share=True)"
   ]
  },
  {
   "cell_type": "code",
   "execution_count": null,
   "metadata": {},
   "outputs": [],
   "source": []
  },
  {
   "cell_type": "code",
   "execution_count": null,
   "metadata": {},
   "outputs": [],
   "source": []
  }
 ],
 "metadata": {
  "kernelspec": {
   "display_name": "gradio",
   "language": "python",
   "name": "python3"
  },
  "language_info": {
   "codemirror_mode": {
    "name": "ipython",
    "version": 3
   },
   "file_extension": ".py",
   "mimetype": "text/x-python",
   "name": "python",
   "nbconvert_exporter": "python",
   "pygments_lexer": "ipython3",
   "version": "3.10.11"
  },
  "orig_nbformat": 4
 },
 "nbformat": 4,
 "nbformat_minor": 2
}
